{
 "cells": [
  {
   "cell_type": "markdown",
   "metadata": {},
   "source": [
    "### 0.0 Load libraries"
   ]
  },
  {
   "cell_type": "code",
   "execution_count": 3,
   "metadata": {
    "pycharm": {
     "is_executing": true
    }
   },
   "outputs": [],
   "source": [
    "import os\n",
    "import squarify    # pip install squarify (algorithm for treemap)\n",
    "import numpy as np\n",
    "from data_loader import download_url\n",
    "from preprocessing import z_score_outlier_detection, data_replacement, corr_filter, split_data, standardize, split_groups\n",
    "from IPython.core.interactiveshell import InteractiveShell\n",
    "from utils import calculate_mse, calculate_mse_loss, cross_validation_iter, build_k_indices \n",
    "from proj1_helpers import load_csv_data, predict_labels, create_csv_submission\n",
    "from implementations import *\n",
    "\n",
    "# For visualisation purposes\n",
    "import pandas as pd\n",
    "import seaborn as sns\n",
    "import matplotlib.pyplot as plt\n",
    "\n",
    "# Global seed for reproducibility\n",
    "np.random.seed(0)"
   ]
  },
  {
   "cell_type": "code",
   "execution_count": 4,
   "metadata": {},
   "outputs": [],
   "source": [
    "%load_ext autoreload\n",
    "%autoreload 2\n",
    "%matplotlib inline\n",
    "InteractiveShell.ast_node_interactivity = \"last_expr\""
   ]
  },
  {
   "cell_type": "markdown",
   "metadata": {},
   "source": [
    "### 0.1 Load the data"
   ]
  },
  {
   "cell_type": "code",
   "execution_count": 5,
   "metadata": {
    "pycharm": {
     "is_executing": true
    }
   },
   "outputs": [],
   "source": [
    "Y_tr, X_tr, ids_tr = load_csv_data(config.TRAIN_DATA_CSV_PATH)\n",
    "Y_te, X_te, ids_te = load_csv_data(config.TEST_DATA_CSV_PATH)"
   ]
  },
  {
   "cell_type": "code",
   "execution_count": 7,
   "metadata": {},
   "outputs": [
    {
     "data": {
      "text/html": [
       "<div>\n",
       "<style scoped>\n",
       "    .dataframe tbody tr th:only-of-type {\n",
       "        vertical-align: middle;\n",
       "    }\n",
       "\n",
       "    .dataframe tbody tr th {\n",
       "        vertical-align: top;\n",
       "    }\n",
       "\n",
       "    .dataframe thead th {\n",
       "        text-align: right;\n",
       "    }\n",
       "</style>\n",
       "<table border=\"1\" class=\"dataframe\">\n",
       "  <thead>\n",
       "    <tr style=\"text-align: right;\">\n",
       "      <th></th>\n",
       "      <th>feat1</th>\n",
       "      <th>feat2</th>\n",
       "      <th>feat3</th>\n",
       "      <th>feat4</th>\n",
       "      <th>feat5</th>\n",
       "      <th>feat6</th>\n",
       "      <th>feat7</th>\n",
       "      <th>feat8</th>\n",
       "      <th>feat9</th>\n",
       "      <th>feat10</th>\n",
       "      <th>...</th>\n",
       "      <th>feat21</th>\n",
       "      <th>feat22</th>\n",
       "      <th>feat23</th>\n",
       "      <th>feat24</th>\n",
       "      <th>feat25</th>\n",
       "      <th>feat26</th>\n",
       "      <th>feat27</th>\n",
       "      <th>feat28</th>\n",
       "      <th>feat29</th>\n",
       "      <th>feat30</th>\n",
       "    </tr>\n",
       "  </thead>\n",
       "  <tbody>\n",
       "    <tr>\n",
       "      <th>0</th>\n",
       "      <td>138.470</td>\n",
       "      <td>51.655</td>\n",
       "      <td>97.827</td>\n",
       "      <td>27.980</td>\n",
       "      <td>0.91</td>\n",
       "      <td>124.711</td>\n",
       "      <td>2.666</td>\n",
       "      <td>3.064</td>\n",
       "      <td>41.928</td>\n",
       "      <td>197.760</td>\n",
       "      <td>...</td>\n",
       "      <td>-0.277</td>\n",
       "      <td>258.733</td>\n",
       "      <td>2.0</td>\n",
       "      <td>67.435</td>\n",
       "      <td>2.150</td>\n",
       "      <td>0.444</td>\n",
       "      <td>46.062</td>\n",
       "      <td>1.24</td>\n",
       "      <td>-2.475</td>\n",
       "      <td>113.497</td>\n",
       "    </tr>\n",
       "    <tr>\n",
       "      <th>1</th>\n",
       "      <td>160.937</td>\n",
       "      <td>68.768</td>\n",
       "      <td>103.235</td>\n",
       "      <td>48.146</td>\n",
       "      <td>-999.00</td>\n",
       "      <td>-999.000</td>\n",
       "      <td>-999.000</td>\n",
       "      <td>3.473</td>\n",
       "      <td>2.078</td>\n",
       "      <td>125.157</td>\n",
       "      <td>...</td>\n",
       "      <td>-1.916</td>\n",
       "      <td>164.546</td>\n",
       "      <td>1.0</td>\n",
       "      <td>46.226</td>\n",
       "      <td>0.725</td>\n",
       "      <td>1.158</td>\n",
       "      <td>-999.000</td>\n",
       "      <td>-999.00</td>\n",
       "      <td>-999.000</td>\n",
       "      <td>46.226</td>\n",
       "    </tr>\n",
       "    <tr>\n",
       "      <th>2</th>\n",
       "      <td>-999.000</td>\n",
       "      <td>162.172</td>\n",
       "      <td>125.953</td>\n",
       "      <td>35.635</td>\n",
       "      <td>-999.00</td>\n",
       "      <td>-999.000</td>\n",
       "      <td>-999.000</td>\n",
       "      <td>3.148</td>\n",
       "      <td>9.336</td>\n",
       "      <td>197.814</td>\n",
       "      <td>...</td>\n",
       "      <td>-2.186</td>\n",
       "      <td>260.414</td>\n",
       "      <td>1.0</td>\n",
       "      <td>44.251</td>\n",
       "      <td>2.053</td>\n",
       "      <td>-2.028</td>\n",
       "      <td>-999.000</td>\n",
       "      <td>-999.00</td>\n",
       "      <td>-999.000</td>\n",
       "      <td>44.251</td>\n",
       "    </tr>\n",
       "    <tr>\n",
       "      <th>3</th>\n",
       "      <td>143.905</td>\n",
       "      <td>81.417</td>\n",
       "      <td>80.943</td>\n",
       "      <td>0.414</td>\n",
       "      <td>-999.00</td>\n",
       "      <td>-999.000</td>\n",
       "      <td>-999.000</td>\n",
       "      <td>3.310</td>\n",
       "      <td>0.414</td>\n",
       "      <td>75.968</td>\n",
       "      <td>...</td>\n",
       "      <td>0.060</td>\n",
       "      <td>86.062</td>\n",
       "      <td>0.0</td>\n",
       "      <td>-999.000</td>\n",
       "      <td>-999.000</td>\n",
       "      <td>-999.000</td>\n",
       "      <td>-999.000</td>\n",
       "      <td>-999.00</td>\n",
       "      <td>-999.000</td>\n",
       "      <td>0.000</td>\n",
       "    </tr>\n",
       "    <tr>\n",
       "      <th>4</th>\n",
       "      <td>175.864</td>\n",
       "      <td>16.915</td>\n",
       "      <td>134.805</td>\n",
       "      <td>16.405</td>\n",
       "      <td>-999.00</td>\n",
       "      <td>-999.000</td>\n",
       "      <td>-999.000</td>\n",
       "      <td>3.891</td>\n",
       "      <td>16.405</td>\n",
       "      <td>57.983</td>\n",
       "      <td>...</td>\n",
       "      <td>-0.871</td>\n",
       "      <td>53.131</td>\n",
       "      <td>0.0</td>\n",
       "      <td>-999.000</td>\n",
       "      <td>-999.000</td>\n",
       "      <td>-999.000</td>\n",
       "      <td>-999.000</td>\n",
       "      <td>-999.00</td>\n",
       "      <td>-999.000</td>\n",
       "      <td>0.000</td>\n",
       "    </tr>\n",
       "  </tbody>\n",
       "</table>\n",
       "<p>5 rows × 30 columns</p>\n",
       "</div>"
      ],
      "text/plain": [
       "     feat1    feat2    feat3   feat4   feat5    feat6    feat7  feat8   feat9  \\\n",
       "0  138.470   51.655   97.827  27.980    0.91  124.711    2.666  3.064  41.928   \n",
       "1  160.937   68.768  103.235  48.146 -999.00 -999.000 -999.000  3.473   2.078   \n",
       "2 -999.000  162.172  125.953  35.635 -999.00 -999.000 -999.000  3.148   9.336   \n",
       "3  143.905   81.417   80.943   0.414 -999.00 -999.000 -999.000  3.310   0.414   \n",
       "4  175.864   16.915  134.805  16.405 -999.00 -999.000 -999.000  3.891  16.405   \n",
       "\n",
       "    feat10  ...  feat21   feat22  feat23   feat24   feat25   feat26   feat27  \\\n",
       "0  197.760  ...  -0.277  258.733     2.0   67.435    2.150    0.444   46.062   \n",
       "1  125.157  ...  -1.916  164.546     1.0   46.226    0.725    1.158 -999.000   \n",
       "2  197.814  ...  -2.186  260.414     1.0   44.251    2.053   -2.028 -999.000   \n",
       "3   75.968  ...   0.060   86.062     0.0 -999.000 -999.000 -999.000 -999.000   \n",
       "4   57.983  ...  -0.871   53.131     0.0 -999.000 -999.000 -999.000 -999.000   \n",
       "\n",
       "   feat28   feat29   feat30  \n",
       "0    1.24   -2.475  113.497  \n",
       "1 -999.00 -999.000   46.226  \n",
       "2 -999.00 -999.000   44.251  \n",
       "3 -999.00 -999.000    0.000  \n",
       "4 -999.00 -999.000    0.000  \n",
       "\n",
       "[5 rows x 30 columns]"
      ]
     },
     "metadata": {},
     "output_type": "display_data"
    },
    {
     "data": {
      "text/html": [
       "<div>\n",
       "<style scoped>\n",
       "    .dataframe tbody tr th:only-of-type {\n",
       "        vertical-align: middle;\n",
       "    }\n",
       "\n",
       "    .dataframe tbody tr th {\n",
       "        vertical-align: top;\n",
       "    }\n",
       "\n",
       "    .dataframe thead th {\n",
       "        text-align: right;\n",
       "    }\n",
       "</style>\n",
       "<table border=\"1\" class=\"dataframe\">\n",
       "  <thead>\n",
       "    <tr style=\"text-align: right;\">\n",
       "      <th></th>\n",
       "      <th>0</th>\n",
       "    </tr>\n",
       "  </thead>\n",
       "  <tbody>\n",
       "    <tr>\n",
       "      <th>0</th>\n",
       "      <td>1.0</td>\n",
       "    </tr>\n",
       "    <tr>\n",
       "      <th>1</th>\n",
       "      <td>-1.0</td>\n",
       "    </tr>\n",
       "    <tr>\n",
       "      <th>2</th>\n",
       "      <td>-1.0</td>\n",
       "    </tr>\n",
       "    <tr>\n",
       "      <th>3</th>\n",
       "      <td>-1.0</td>\n",
       "    </tr>\n",
       "    <tr>\n",
       "      <th>4</th>\n",
       "      <td>-1.0</td>\n",
       "    </tr>\n",
       "  </tbody>\n",
       "</table>\n",
       "</div>"
      ],
      "text/plain": [
       "     0\n",
       "0  1.0\n",
       "1 -1.0\n",
       "2 -1.0\n",
       "3 -1.0\n",
       "4 -1.0"
      ]
     },
     "metadata": {},
     "output_type": "display_data"
    }
   ],
   "source": [
    "# Use pandas to take a glimpse at the data\n",
    "col = [\"feat{}\".format(indx+1) for indx in range(30)]\n",
    "X_df = pd.DataFrame(X_tr, columns=col)\n",
    "X_te_df = pd.DataFrame(X_te, columns=col)\n",
    "Y_df = pd.DataFrame(Y_tr)\n",
    "display(X_df.head(), Y_df.head())"
   ]
  },
  {
   "cell_type": "markdown",
   "metadata": {
    "pycharm": {
     "name": "#%%\n"
    }
   },
   "source": [
    "## 1. Exploratory data analysis"
   ]
  },
  {
   "cell_type": "markdown",
   "metadata": {},
   "source": [
    "### 1.1 Inspect the missing values"
   ]
  },
  {
   "cell_type": "code",
   "execution_count": 60,
   "metadata": {
    "scrolled": true
   },
   "outputs": [
    {
     "name": "stdout",
     "output_type": "stream",
     "text": [
      "========================================================\n",
      "Feature 1: Has 38114 missing values ==> 15.2456%!\n",
      "Mean -49.023079440000004 and Variance 165116.12412717938\n",
      "Number of unique Elements: 108338\n",
      "[-999.       9.044    9.222 ...  987.561  988.199 1192.026]\n",
      "========================================================\n",
      "Feature 2: Has 0 missing values ==> 0.0%!\n",
      "Mean 49.239819276 and Variance 1249.2559418725507\n",
      "Number of unique Elements: 101637\n",
      "[0.00000e+00 1.00000e-03 2.00000e-03 ... 5.94287e+02 5.95819e+02\n",
      " 6.90075e+02]\n",
      "========================================================\n",
      "Feature 3: Has 0 missing values ==> 0.0%!\n",
      "Mean 81.181981612 and Variance 1666.975302663858\n",
      "Number of unique Elements: 100558\n",
      "[   6.329    6.462    7.12  ... 1153.166 1329.913 1349.351]\n",
      "========================================================\n",
      "Feature 4: Has 0 missing values ==> 0.0%!\n",
      "Mean 57.895961656 and Variance 4052.0295941117856\n",
      "Number of unique Elements: 115563\n",
      "[0.000000e+00 5.000000e-03 1.100000e-02 ... 7.628060e+02 1.053807e+03\n",
      " 2.834999e+03]\n",
      "========================================================\n",
      "Feature 5: Has 177457 missing values ==> 70.9828%!\n",
      "Mean -708.4206753999999 and Variance 206551.75785299003\n",
      "Number of unique Elements: 7087\n",
      "[-9.990e+02  0.000e+00  1.000e-03 ...  8.326e+00  8.459e+00  8.503e+00]\n",
      "========================================================\n",
      "Feature 6: Has 177457 missing values ==> 70.9828%!\n",
      "Mean -601.2370507319998 and Variance 432925.81863790075\n",
      "Number of unique Elements: 68366\n",
      "[-999.      13.602   14.992 ... 4160.527 4543.913 4974.979]\n",
      "========================================================\n",
      "Feature 7: Has 177457 missing values ==> 70.9828%!\n",
      "Mean -709.3566029000002 and Variance 205226.1876432342\n",
      "Number of unique Elements: 16593\n",
      "[-999.     -18.066  -17.842 ...   16.219   16.648   16.69 ]\n",
      "========================================================\n",
      "Feature 8: Has 0 missing values ==> 0.0%!\n",
      "Mean 2.3730998440000004 and Variance 0.6129473678991757\n",
      "Number of unique Elements: 4692\n",
      "[0.208 0.224 0.228 ... 5.642 5.655 5.684]\n",
      "========================================================\n",
      "Feature 9: Has 0 missing values ==> 0.0%!\n",
      "Mean 18.91733244400001 and Variance 496.106539484349\n",
      "Number of unique Elements: 59042\n",
      "[0.000000e+00 1.000000e-03 3.000000e-03 ... 4.665250e+02 5.136590e+02\n",
      " 2.834999e+03]\n",
      "========================================================\n",
      "Feature 10: Has 0 missing values ==> 0.0%!\n",
      "Mean 158.432217048 and Variance 13387.85152766361\n",
      "Number of unique Elements: 156098\n",
      "[  46.104   46.212   46.227 ... 1687.087 1703.752 1852.462]\n",
      "========================================================\n",
      "Feature 11: Has 0 missing values ==> 0.0%!\n",
      "Mean 1.4376094319999997 and Variance 0.7135877881926372\n",
      "Number of unique Elements: 5931\n",
      "[ 0.047  0.074  0.077 ... 18.992 19.672 19.773]\n",
      "========================================================\n",
      "Feature 12: Has 0 missing values ==> 0.0%!\n",
      "Mean -0.12830470800000002 and Variance 1.4246390616130344\n",
      "Number of unique Elements: 2829\n",
      "[-1.414 -1.413 -1.412 ...  1.412  1.413  1.414]\n",
      "========================================================\n",
      "Feature 13: Has 177457 missing values ==> 70.9828%!\n",
      "Mean -708.9851891320002 and Variance 205749.16248543566\n",
      "Number of unique Elements: 1002\n",
      "[-9.99e+02  0.00e+00  1.00e-03 ...  9.98e-01  9.99e-01  1.00e+00]\n",
      "========================================================\n",
      "Feature 14: Has 0 missing values ==> 0.0%!\n",
      "Mean 38.70741912799999 and Variance 502.2993506053237\n",
      "Number of unique Elements: 59639\n",
      "[ 20.     20.001  20.002 ... 505.06  622.862 764.408]\n",
      "========================================================\n",
      "Feature 15: Has 0 missing values ==> 0.0%!\n",
      "Mean -0.010973048000000001 and Variance 1.4739810627935896\n",
      "Number of unique Elements: 4971\n",
      "[-2.499 -2.498 -2.497 ...  2.494  2.495  2.497]\n",
      "========================================================\n",
      "Feature 16: Has 0 missing values ==> 0.0%!\n",
      "Mean -0.008171072000000005 and Variance 3.3006147568943707\n",
      "Number of unique Elements: 6285\n",
      "[-3.142 -3.141 -3.14  ...  3.14   3.141  3.142]\n",
      "========================================================\n",
      "Feature 17: Has 0 missing values ==> 0.0%!\n",
      "Mean 46.66020724800001 and Variance 486.8588532935364\n",
      "Number of unique Elements: 61929\n",
      "[ 26.     26.001  26.002 ... 452.434 461.896 560.271]\n",
      "========================================================\n",
      "Feature 18: Has 0 missing values ==> 0.0%!\n",
      "Mean -0.019507467999999997 and Variance 1.6001734352722288\n",
      "Number of unique Elements: 4987\n",
      "[-2.505 -2.494 -2.49  ...  2.499  2.502  2.503]\n",
      "========================================================\n",
      "Feature 19: Has 0 missing values ==> 0.0%!\n",
      "Mean 0.043542963999999997 and Variance 3.300063279882096\n",
      "Number of unique Elements: 6285\n",
      "[-3.142 -3.141 -3.14  ...  3.14   3.141  3.142]\n",
      "========================================================\n",
      "Feature 20: Has 0 missing values ==> 0.0%!\n",
      "Mean 41.71723452400001 and Variance 1082.0565119504024\n",
      "Number of unique Elements: 87836\n",
      "[1.090000e-01 1.550000e-01 1.620000e-01 ... 6.955330e+02 9.513630e+02\n",
      " 2.842617e+03]\n",
      "========================================================\n",
      "Feature 21: Has 0 missing values ==> 0.0%!\n",
      "Mean -0.010119191999999999 and Variance 3.2841379849932677\n",
      "Number of unique Elements: 6285\n",
      "[-3.142 -3.141 -3.14  ...  3.14   3.141  3.142]\n",
      "========================================================\n",
      "Feature 22: Has 0 missing values ==> 0.0%!\n",
      "Mean 209.79717763200006 and Variance 16002.06093800385\n",
      "Number of unique Elements: 179740\n",
      "[  13.678   17.931   18.534 ... 1726.939 1733.037 2003.976]\n",
      "========================================================\n",
      "Feature 23: Has 0 missing values ==> 0.0%!\n",
      "Mean 0.979176 and Variance 0.9553583610240002\n",
      "Number of unique Elements: 4\n",
      "[0. 1. 2. 3.]\n",
      "========================================================\n",
      "Feature 24: Has 99913 missing values ==> 39.9652%!\n",
      "Mean -348.329567188 and Variance 284048.19864328514\n",
      "Number of unique Elements: 86590\n",
      "[-999.      30.      30.001 ...  755.235  760.846 1120.573]\n",
      "========================================================\n",
      "Feature 25: Has 99913 missing values ==> 39.9652%!\n",
      "Mean -399.254313892 and Variance 239451.0003551417\n",
      "Number of unique Elements: 8558\n",
      "[-999.      -4.499   -4.497 ...    4.491    4.492    4.499]\n",
      "========================================================\n",
      "Feature 26: Has 99913 missing values ==> 39.9652%!\n",
      "Mean -399.25978800800004 and Variance 239446.6915753187\n",
      "Number of unique Elements: 6285\n",
      "[-999.      -3.142   -3.141 ...    3.139    3.14     3.141]\n",
      "========================================================\n",
      "Feature 27: Has 177457 missing values ==> 70.9828%!\n",
      "Mean -692.3812035480001 and Variance 230279.57039089376\n",
      "Number of unique Elements: 42464\n",
      "[-999.      30.      30.001 ...  569.834  706.672  721.456]\n",
      "========================================================\n",
      "Feature 28: Has 177457 missing values ==> 70.9828%!\n",
      "Mean -709.121609164 and Variance 205556.79509249245\n",
      "Number of unique Elements: 8628\n",
      "[-999.      -4.5     -4.498 ...    4.497    4.498    4.5  ]\n",
      "========================================================\n",
      "Feature 29: Has 177457 missing values ==> 70.9828%!\n",
      "Mean -709.1186311359997 and Variance 205560.7787379806\n",
      "Number of unique Elements: 6286\n",
      "[-999.      -3.142   -3.141 ...    3.14     3.141    3.142]\n",
      "========================================================\n",
      "Feature 30: Has 0 missing values ==> 0.0%!\n",
      "Mean 73.06459138400002 and Variance 9607.0315706368\n",
      "Number of unique Elements: 103559\n",
      "[   0.      30.      30.001 ... 1575.861 1606.872 1633.433]\n"
     ]
    }
   ],
   "source": [
    "# Check for each feature, how many -999 (missing values) it has\n",
    "missing_percentage = []\n",
    "for indx, col in enumerate(X_df.columns):\n",
    "    print(\"========================================================\")\n",
    "    missing_percentage.append(100*sum(X_df[col]==-999.)/len(X_df))\n",
    "    print(\"Feature {}: Has {} missing values ==> {}%!\".format(indx+1, sum(X_df[col]==-999.), missing_percentage[indx]))\n",
    "    print(\"Mean {} and Variance {}\".format(np.mean(X_df[col]), np.var(X_df[col])))\n",
    "    print(\"Number of unique Elements: {}\".format(len(np.unique(X_df[col]))))\n",
    "    print(np.unique(X_df[col]))"
   ]
  },
  {
   "cell_type": "markdown",
   "metadata": {},
   "source": [
    "#### 1.1.1 Insights\n",
    "The following features containg missing values:\n",
    "* feat1:  15%\n",
    "* feat5:  71%\n",
    "* feat6:  71%\n",
    "* feat7:  71%\n",
    "* feat13: 71%\n",
    "* feat24: 40%\n",
    "* feat25: 40%\n",
    "* feat26: 40%\n",
    "* feat27: 71%\n",
    "* feat28: 71%\n",
    "* feat29: 71%\n",
    "    \n",
    "Also:\n",
    "* feat23 has takes only 4 values"
   ]
  },
  {
   "cell_type": "code",
   "execution_count": 234,
   "metadata": {},
   "outputs": [
    {
     "data": {
      "image/png": "[encoded data removed]",
      "text/plain": [
       "<Figure size 576x432 with 1 Axes>"
      ]
     },
     "metadata": {},
     "output_type": "display_data"
    }
   ],
   "source": [
    "missing_percentage_plot = [x / 100 for x in missing_percentage]\n",
    "plt.figure(figsize = (8,6))\n",
    "sns.barplot(x = np.arange(1, len(missing_percentage_plot)+1), y = missing_percentage_plot, color = 'black', alpha = 0.8)\n",
    "plt.xlabel('Feature')\n",
    "plt.ylabel('Percentage of missing values')\n",
    "plt.title('Percentage of missing values per feature')\n",
    "sns.set(font_scale=1, style='white')\n",
    "sns.despine();\n",
    "plt.ylim((0,1));\n",
    "\n"
   ]
  },
  {
   "cell_type": "markdown",
   "metadata": {},
   "source": [
    "### 1.2 Further investigate the missing values"
   ]
  },
  {
   "cell_type": "code",
   "execution_count": 19,
   "metadata": {},
   "outputs": [
    {
     "name": "stderr",
     "output_type": "stream",
     "text": [
      "/home/mogan/anaconda3/envs/ada/lib/python3.8/site-packages/numpy/core/_asarray.py:136: VisibleDeprecationWarning: Creating an ndarray from ragged nested sequences (which is a list-or-tuple of lists-or-tuples-or ndarrays with different lengths or shapes) is deprecated. If you meant to do this, you must specify 'dtype=object' when creating the ndarray\n",
      "  return array(a, dtype, copy=False, order=order, subok=True)\n"
     ]
    },
    {
     "data": {
      "text/plain": [
       "array([list([]), list([0]),\n",
       "       list([0, 4, 5, 6, 12, 23, 24, 25, 26, 27, 28]),\n",
       "       list([0, 4, 5, 6, 12, 26, 27, 28]),\n",
       "       list([4, 5, 6, 12, 23, 24, 25, 26, 27, 28]),\n",
       "       list([4, 5, 6, 12, 26, 27, 28])], dtype=object)"
      ]
     },
     "execution_count": 19,
     "metadata": {},
     "output_type": "execute_result"
    }
   ],
   "source": [
    "missing_values = []\n",
    "missing_values_unique = []\n",
    "for indc in range(len(X_df)):\n",
    "    missing_values.append([x == -999. for x in list(X_df.iloc[indc])])\n",
    "    \n",
    "for m in missing_values:\n",
    "    if not (m in missing_values_unique):\n",
    "        missing_values_unique.append([i for i, x in enumerate(m) if x])\n",
    "        \n",
    "np.unique(missing_values_unique)"
   ]
  },
  {
   "cell_type": "markdown",
   "metadata": {},
   "source": [
    "#### 1.2.1 Insights\n",
    "\n",
    "We basically have 6 groups of data in respect to missing values\n",
    "* Group 1: Have no missing values\n",
    "* Group 2: Missing features: [1]\n",
    "* Group 3: Missing features: [5,6,7,13,27,28,29]\n",
    "* Group 4: Missing features: [1,5,6,7,13,27,28,29]\n",
    "* Group 5: Missing features: [5,6,7,13,24,25,26,27,28,29] \n",
    "* Group 6: Missing features: [1,5,6,7,13,24,25,26,27,28,29] "
   ]
  },
  {
   "cell_type": "code",
   "execution_count": 8,
   "metadata": {},
   "outputs": [],
   "source": [
    "# Split data in the six groups and plot amount of data for each category\n",
    "groups_tr_Y, groups_tr_X, indc_list_tr = split_groups(Y_tr, X_tr)\n",
    "groups_te_Y, groups_te_X, indc_list_te = split_groups(Y_te, X_te)"
   ]
  },
  {
   "cell_type": "code",
   "execution_count": 9,
   "metadata": {},
   "outputs": [
    {
     "data": {
      "text/plain": [
       "[0.272456, 0.017716, 0.279928, 0.030248, 0.29516, 0.104492]"
      ]
     },
     "execution_count": 9,
     "metadata": {},
     "output_type": "execute_result"
    }
   ],
   "source": [
    "group_size = []\n",
    "for i in range(6):\n",
    "    group_size.append(groups_tr_X[i].shape[0])\n",
    "group_size_prop = [x/np.sum(group_size) for x in group_size]\n",
    "group_size_prop"
   ]
  },
  {
   "cell_type": "code",
   "execution_count": 20,
   "metadata": {},
   "outputs": [
    {
     "data": {
      "text/plain": [
       "[0.27358254815763816,\n",
       " 0.017566583016271353,\n",
       " 0.2782196896370887,\n",
       " 0.03034467951808925,\n",
       " 0.295993932119992,\n",
       " 0.10429256755092056]"
      ]
     },
     "execution_count": 20,
     "metadata": {},
     "output_type": "execute_result"
    }
   ],
   "source": [
    "group_size_te = []\n",
    "for i in range(6):\n",
    "    group_size_te.append(groups_te_X[i].shape[0])\n",
    "group_size_prop_te = [x/np.sum(group_size_te) for x in group_size_te]\n",
    "group_size_prop_te"
   ]
  },
  {
   "cell_type": "code",
   "execution_count": 19,
   "metadata": {
    "scrolled": false
   },
   "outputs": [
    {
     "data": {
      "image/png": "[encoded data removed]",
      "text/plain": [
       "<Figure size 648x504 with 1 Axes>"
      ]
     },
     "metadata": {},
     "output_type": "display_data"
    }
   ],
   "source": [
    "plt.figure(figsize = (9,7))\n",
    "subgroups_plot = sns.barplot(y = group_size_prop, x = np.arange(1,7), palette= 'colorblind')\n",
    "plt.xlabel('Group')\n",
    "plt.ylabel('Percentage of training data')\n",
    "#plt.title('Percentage of training data in each subgroup')\n",
    "sns.set(font_scale=1.7, style='white')\n",
    "sns.despine();\n",
    "subgroups_plot.figure.savefig(\"subgroups.png\")"
   ]
  },
  {
   "cell_type": "markdown",
   "metadata": {
    "pycharm": {
     "name": "#%% md\n"
    }
   },
   "source": [
    "## 2. Preprocessing"
   ]
  },
  {
   "cell_type": "code",
   "execution_count": 210,
   "metadata": {
    "scrolled": true
   },
   "outputs": [],
   "source": [
    "X_tr = standardize(X_tr)\n",
    "X_te = standardize(X_te)"
   ]
  },
  {
   "cell_type": "code",
   "execution_count": 211,
   "metadata": {},
   "outputs": [],
   "source": [
    "# Find correlated features, delete from datasets\n",
    "X_tr , _ = corr_filter(X_tr, 0.93)\n",
    "\n",
    "# Get a random subset of the data for plotting\n",
    "N = 50\n",
    "X_sub = X_tr[np.random.permutation(X.shape[0])][:N,:]\n"
   ]
  },
  {
   "cell_type": "code",
   "execution_count": 212,
   "metadata": {},
   "outputs": [],
   "source": [
    "# Function for displaying correlation dots in the paired plot\n",
    "def corr_dot(*args, **kwargs):\n",
    "    \"\"\"\n",
    "    Calculate the correlation of features and display it:\n",
    "    positive correlation displayed with red colours,\n",
    "    negative correlation with blue colours.\n",
    "    The greater the absolute value of the correlation, \n",
    "    the greater the size of the corresponding number.\n",
    "    \"\"\"\n",
    "    corr_r = args[0].corr(args[1], 'pearson')\n",
    "    corr_text = f\"{corr_r:2.2f}\".replace(\"0.\", \".\")\n",
    "    ax = plt.gca()\n",
    "    ax.set_axis_off()\n",
    "    marker_size = abs(corr_r) * 10000\n",
    "    ax.scatter([.5], [.5], marker_size, [corr_r], alpha=0.6, cmap=\"coolwarm\",\n",
    "               vmin=-1, vmax=1, transform=ax.transAxes)\n",
    "    font_size = abs(corr_r) * 40 + 5\n",
    "    ax.annotate(corr_text, [.5, .5, ], xycoords=\"axes fraction\",\n",
    "                ha='center', va='center', fontsize=font_size)\n"
   ]
  },
  {
   "cell_type": "code",
   "execution_count": null,
   "metadata": {
    "scrolled": true
   },
   "outputs": [],
   "source": [
    "# Paired plot of features\n",
    "sns.set(style='white', font_scale=1)\n",
    "g = sns.PairGrid(pd.DataFrame(X_sub), aspect=1.4, diag_sharey=False)\n",
    "g.map_lower(sns.regplot, scatter_kws={'s':10})\n",
    "g.map_diag(sns.distplot, kde_kws={'color': 'black'})\n",
    "g.map_upper(corr_dot);\n",
    "\n",
    "g.savefig(\"paired_feature_plot.png\")"
   ]
  }
 ],
 "metadata": {
  "anaconda-cloud": {},
  "kernelspec": {
   "display_name": "Python 3",
   "language": "python",
   "name": "python3"
  },
  "language_info": {
   "codemirror_mode": {
    "name": "ipython",
    "version": 3
   },
   "file_extension": ".py",
   "mimetype": "text/x-python",
   "name": "python",
   "nbconvert_exporter": "python",
   "pygments_lexer": "ipython3",
   "version": "3.8.5"
  }
 },
 "nbformat": 4,
 "nbformat_minor": 1
}
